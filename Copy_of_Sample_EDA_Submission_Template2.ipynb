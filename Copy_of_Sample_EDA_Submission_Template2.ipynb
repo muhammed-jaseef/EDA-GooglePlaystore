{
  "nbformat": 4,
  "nbformat_minor": 0,
  "metadata": {
    "colab": {
      "private_outputs": true,
      "provenance": [],
      "collapsed_sections": [
        "w6K7xa23Elo4",
        "gIfDvo9L0UH2"
      ],
      "include_colab_link": true
    },
    "kernelspec": {
      "name": "python3",
      "display_name": "Python 3"
    },
    "language_info": {
      "name": "python"
    }
  },
  "cells": [
    {
      "cell_type": "markdown",
      "metadata": {
        "id": "view-in-github",
        "colab_type": "text"
      },
      "source": [
        "<a href=\"https://colab.research.google.com/github/muhammed-jaseef/EDA-GooglePlaystore/blob/main/Copy_of_Sample_EDA_Submission_Template2.ipynb\" target=\"_parent\"><img src=\"https://colab.research.google.com/assets/colab-badge.svg\" alt=\"Open In Colab\"/></a>"
      ]
    },
    {
      "cell_type": "code",
      "source": [],
      "metadata": {
        "id": "I1apcow5dxii"
      },
      "execution_count": null,
      "outputs": []
    },
    {
      "cell_type": "markdown",
      "source": [
        "# **Project Name**    -\n",
        "\n"
      ],
      "metadata": {
        "id": "vncDsAP0Gaoa"
      }
    },
    {
      "cell_type": "markdown",
      "source": [
        "##### **Project Type**    - EDA\n",
        "##### **Contribution**    - Individual\n",
        "##### **Team Member 1 -**Muhammed Jaseef K\n"
      ],
      "metadata": {
        "id": "beRrZCGUAJYm"
      }
    },
    {
      "cell_type": "markdown",
      "source": [
        "# **Project Summary -**"
      ],
      "metadata": {
        "id": "FJNUwmbgGyua"
      }
    },
    {
      "cell_type": "markdown",
      "source": [
        "The Google Play Store is a massive digital marketplace, hosting a vast array of applications catering to different user needs. The dataset under analysis provides insights into various app attributes, including category, rating, size, number of installs, price, and user reviews. By analyzing these factors, developers and businesses can identify the key determinants of app engagement and success. The analysis also incorporates user review data to gain deeper insights into customer sentiments and preferences.\n",
        "\n",
        "**Objectives**\n",
        "\n",
        "The primary objectives of this analysis are:\n",
        "\n",
        "* To identify the characteristics of successful apps.\n",
        "\n",
        "* To explore user engagement through ratings and reviews.\n",
        "\n",
        "* To determine the impact of pricing and app size on downloads.\n",
        "\n",
        "* To analyze sentiment in customer reviews to understand user satisfaction and complaints."
      ],
      "metadata": {
        "id": "F6v_1wHtG2nS"
      }
    },
    {
      "cell_type": "markdown",
      "source": [
        "# **GitHub Link -**"
      ],
      "metadata": {
        "id": "w6K7xa23Elo4"
      }
    },
    {
      "cell_type": "markdown",
      "source": [],
      "metadata": {
        "id": "h1o69JH3Eqqn"
      }
    },
    {
      "cell_type": "markdown",
      "source": [
        "# **Problem Statement**\n"
      ],
      "metadata": {
        "id": "yQaldy8SH6Dl"
      }
    },
    {
      "cell_type": "markdown",
      "source": [
        "The Google Play Store hosts a vast ecosystem of mobile applications, each competing for user attention and engagement. Understanding the factors that drive app success—such as category, rating, size, pricing model, and user reviews—can provide valuable insights for developers and businesses aiming to optimize their apps for higher downloads, better user retention, and increased revenue.\n",
        "\n",
        "This project aims to analyze Play Store app data and customer reviews to identify key determinants of app success. By leveraging data-driven techniques, we will explore how various attributes impact app engagement and popularity, ultimately helping developers make informed decisions to enhance their apps and capture a larger market share."
      ],
      "metadata": {
        "id": "DpeJGUA3kjGy"
      }
    },
    {
      "cell_type": "markdown",
      "source": [
        "#### **Define Your Business Objective?**"
      ],
      "metadata": {
        "id": "PH-0ReGfmX4f"
      }
    },
    {
      "cell_type": "markdown",
      "source": [
        "The objective of this analysis is to extract actionable insights from Google Play Store app data and customer reviews to help developers and businesses optimize their applications for better engagement, higher downloads, and increased revenue.\n",
        "\n",
        "By identifying key factors influencing app success—such as app category, user ratings, pricing models, review sentiments, and feature offerings—we aim to:\n",
        "\n",
        "Enhance App Performance: Understand what makes top-performing apps successful and apply those learnings to improve app features, usability, and design.\n",
        "\n",
        "Optimize User Engagement: Analyze user reviews and ratings to identify common pain points, feature requests, and areas for improvement.\n",
        "\n",
        "Increase Market Competitiveness: Help developers position their apps effectively in the marketplace by identifying trends and consumer preferences.\n",
        "\n",
        "Monetization Strategy: Determine how pricing models (free, paid, in-app purchases) influence app popularity and revenue generation.\n",
        "\n",
        "Improve Marketing Strategies: Provide data-driven recommendations for targeted advertising and user acquisition strategies.\n",
        "\n",
        "This analysis will help developers and businesses make informed, strategic decisions to maximize app engagement, customer satisfaction, and profitability."
      ],
      "metadata": {
        "id": "PhDvGCAqmjP1"
      }
    },
    {
      "cell_type": "markdown",
      "source": [
        "# **General Guidelines** : -  "
      ],
      "metadata": {
        "id": "mDgbUHAGgjLW"
      }
    },
    {
      "cell_type": "markdown",
      "source": [
        "1.   Well-structured, formatted, and commented code is required.\n",
        "2.   Exception Handling, Production Grade Code & Deployment Ready Code will be a plus. Those students will be awarded some additional credits.\n",
        "     \n",
        "     The additional credits will have advantages over other students during Star Student selection.\n",
        "       \n",
        "             [ Note: - Deployment Ready Code is defined as, the whole .ipynb notebook should be executable in one go\n",
        "                       without a single error logged. ]\n",
        "\n",
        "3.   Each and every logic should have proper comments.\n",
        "4. You may add as many number of charts you want. Make Sure for each and every chart the following format should be answered.\n",
        "        \n",
        "\n",
        "```\n",
        "# Chart visualization code\n",
        "```\n",
        "            \n",
        "\n",
        "*   Why did you pick the specific chart?\n",
        "*   What is/are the insight(s) found from the chart?\n",
        "* Will the gained insights help creating a positive business impact?\n",
        "Are there any insights that lead to negative growth? Justify with specific reason.\n",
        "\n",
        "5. You have to create at least 20 logical & meaningful charts having important insights.\n",
        "\n",
        "\n",
        "[ Hints : - Do the Vizualization in  a structured way while following \"UBM\" Rule.\n",
        "\n",
        "U - Univariate Analysis,\n",
        "\n",
        "B - Bivariate Analysis (Numerical - Categorical, Numerical - Numerical, Categorical - Categorical)\n",
        "\n",
        "M - Multivariate Analysis\n",
        " ]\n",
        "\n",
        "\n",
        "\n"
      ],
      "metadata": {
        "id": "ZrxVaUj-hHfC"
      }
    },
    {
      "cell_type": "markdown",
      "source": [
        "# ***Let's Begin !***"
      ],
      "metadata": {
        "id": "O_i_v8NEhb9l"
      }
    },
    {
      "cell_type": "markdown",
      "source": [
        "## ***1. Know Your Data***"
      ],
      "metadata": {
        "id": "HhfV-JJviCcP"
      }
    },
    {
      "cell_type": "markdown",
      "source": [
        "### Import Libraries"
      ],
      "metadata": {
        "id": "Y3lxredqlCYt"
      }
    },
    {
      "cell_type": "code",
      "source": [
        "# Import Libraries\n",
        "import pandas as pd\n",
        "import numpy as np\n",
        "import matplotlib.pyplot as plt\n",
        "import seaborn as sns"
      ],
      "metadata": {
        "id": "M8Vqi-pPk-HR"
      },
      "execution_count": null,
      "outputs": []
    },
    {
      "cell_type": "markdown",
      "source": [
        "### Dataset Loading"
      ],
      "metadata": {
        "id": "3RnN4peoiCZX"
      }
    },
    {
      "cell_type": "code",
      "source": [
        "# Load Dataset\n",
        "reviews_df = pd.read_csv('/content/User Reviews (1).csv')\n",
        "data_df = pd.read_csv('/content/Play Store Data (1).csv')"
      ],
      "metadata": {
        "id": "4CkvbW_SlZ_R"
      },
      "execution_count": null,
      "outputs": []
    },
    {
      "cell_type": "markdown",
      "source": [
        "### Dataset First View"
      ],
      "metadata": {
        "id": "x71ZqKXriCWQ"
      }
    },
    {
      "cell_type": "code",
      "source": [
        "# Dataset First Look\n",
        "reviews_df.head(5)"
      ],
      "metadata": {
        "id": "LWNFOSvLl09H"
      },
      "execution_count": null,
      "outputs": []
    },
    {
      "cell_type": "code",
      "source": [
        "data_df.head(5)"
      ],
      "metadata": {
        "id": "aIIU7rpTLn0F"
      },
      "execution_count": null,
      "outputs": []
    },
    {
      "cell_type": "markdown",
      "source": [
        "### Dataset Rows & Columns count"
      ],
      "metadata": {
        "id": "7hBIi_osiCS2"
      }
    },
    {
      "cell_type": "code",
      "source": [
        "# Dataset Rows & Columns count\n",
        "rows, cols = reviews_df.shape\n",
        "print(f\"Review Dataset contains {rows} rows and {cols} columns.\")"
      ],
      "metadata": {
        "id": "Kllu7SJgmLij"
      },
      "execution_count": null,
      "outputs": []
    },
    {
      "cell_type": "code",
      "source": [
        "rows, cols = data_df.shape\n",
        "print(f\"Playstore data  Dataset contains {rows} rows and {cols} columns.\")"
      ],
      "metadata": {
        "id": "PweVc6KkMLkk"
      },
      "execution_count": null,
      "outputs": []
    },
    {
      "cell_type": "markdown",
      "source": [
        "### Dataset Information"
      ],
      "metadata": {
        "id": "JlHwYmJAmNHm"
      }
    },
    {
      "cell_type": "code",
      "source": [
        "# Dataset Info\n",
        "data_df.info()"
      ],
      "metadata": {
        "id": "e9hRXRi6meOf"
      },
      "execution_count": null,
      "outputs": []
    },
    {
      "cell_type": "markdown",
      "source": [
        "#### Duplicate Values"
      ],
      "metadata": {
        "id": "35m5QtbWiB9F"
      }
    },
    {
      "cell_type": "code",
      "source": [
        "# Dataset Duplicate Value Count\n",
        "duplicate_count = data_df.duplicated().sum()\n",
        "print(f\"Number of duplicate rows: {duplicate_count}\")"
      ],
      "metadata": {
        "id": "1sLdpKYkmox0"
      },
      "execution_count": null,
      "outputs": []
    },
    {
      "cell_type": "markdown",
      "source": [
        "#### Missing Values/Null Values"
      ],
      "metadata": {
        "id": "PoPl-ycgm1ru"
      }
    },
    {
      "cell_type": "code",
      "source": [
        "# Missing Values/Null Values Count\n",
        "missing_values = data_df.isnull().sum()\n",
        "print(missing_values)"
      ],
      "metadata": {
        "id": "GgHWkxvamxVg"
      },
      "execution_count": null,
      "outputs": []
    },
    {
      "cell_type": "code",
      "source": [
        "# Visualizing the missing values\n",
        "plt.figure(figsize=(10, 6))\n",
        "sns.heatmap(data_df.isnull(), cmap='viridis', cbar=False)\n",
        "plt.title('Missing Values Heatmap')\n",
        "plt.show()"
      ],
      "metadata": {
        "id": "3q5wnI3om9sJ"
      },
      "execution_count": null,
      "outputs": []
    },
    {
      "cell_type": "markdown",
      "source": [
        "### What did you know about your dataset?"
      ],
      "metadata": {
        "id": "H0kj-8xxnORC"
      }
    },
    {
      "cell_type": "markdown",
      "source": [
        "This dataset contains information about mobile applications available on the Google Play Store.\n",
        "It provides details such as the application name, category, user ratings, number of reviews, size of the app, number of installs, type (Free or Paid), price, content rating (age group suitability), and genres.\n",
        "This dataset is useful for generating business insights related to app performance, user behavior, and market trends on the Google Play Store.\n",
        "\n",
        "After exploring the dataset, I observed the following:\n",
        "\n",
        "* The Rating column contains a significant number of null (missing) values, which indicates incomplete user feedback for many apps.\n",
        "\n",
        "* The dataset has 483 duplicate rows, which need to be handled during data cleaning to avoid incorrect analysis."
      ],
      "metadata": {
        "id": "gfoNAAC-nUe_"
      }
    },
    {
      "cell_type": "markdown",
      "source": [
        "## ***2. Understanding Your Variables***"
      ],
      "metadata": {
        "id": "nA9Y7ga8ng1Z"
      }
    },
    {
      "cell_type": "code",
      "source": [
        "# Dataset Columns\n",
        "data_df.columns"
      ],
      "metadata": {
        "id": "j7xfkqrt5Ag5"
      },
      "execution_count": null,
      "outputs": []
    },
    {
      "cell_type": "code",
      "source": [
        "# Dataset Describe\n",
        "data_df.describe()"
      ],
      "metadata": {
        "id": "DnOaZdaE5Q5t"
      },
      "execution_count": null,
      "outputs": []
    },
    {
      "cell_type": "markdown",
      "source": [
        "### Variables Description"
      ],
      "metadata": {
        "id": "PBTbrJXOngz2"
      }
    },
    {
      "cell_type": "markdown",
      "source": [
        "* Application Name: Name of the mobile application.\n",
        "\n",
        "* Category: Primary category of the app (e.g., Games, Education, Productivity).\n",
        "\n",
        "* Rating: Overall user rating of the app given by users (numeric value).\n",
        "\n",
        "* Reviews: Total number of user reviews received by the app.\n",
        "\n",
        "* Size: Size of the app file (example: 15MB, 50MB).\n",
        "\n",
        "* Installs: Total number of times the app has been installed by users.\n",
        "\n",
        "* Type: Indicates whether the app is Free or Paid.\n",
        "\n",
        "* Price: Price of the app (0 for Free apps and numeric value for Paid apps).\n",
        "\n",
        "* Content Rating: Age group targeted by the app (e.g., Everyone, Teen, Adult).\n",
        "\n",
        "* Genres: Additional genres/categories of the app apart from the main category.\n",
        "* Translated_Review: User review of the app (cleaned, tokenized, and translated into English).\n",
        "\n",
        "* Sentiment: Sentiment of the review categorized as Positive, Negative, or Neutral.\n",
        "\n",
        "* Sentiment_Polarity: Numeric score showing sentiment polarity ranging from -1 (most negative) to 1 (most positive).\n",
        "\n",
        "* Sentiment_Subjectivity: Numeric score indicating how subjective or opinion-based the review is, ranging from 0 (objective) to 1 (subjective).\n",
        "\n"
      ],
      "metadata": {
        "id": "aJV4KIxSnxay"
      }
    },
    {
      "cell_type": "markdown",
      "source": [
        "### Check Unique Values for each variable."
      ],
      "metadata": {
        "id": "u3PMJOP6ngxN"
      }
    },
    {
      "cell_type": "code",
      "source": [
        "# Check Unique Values for each variable.\n",
        "unique_values = data_df.nunique()\n",
        "print(unique_values)"
      ],
      "metadata": {
        "id": "zms12Yq5n-jE"
      },
      "execution_count": null,
      "outputs": []
    },
    {
      "cell_type": "markdown",
      "source": [
        "## 3. ***Data Wrangling***"
      ],
      "metadata": {
        "id": "dauF4eBmngu3"
      }
    },
    {
      "cell_type": "markdown",
      "source": [
        "### Data Wrangling Code"
      ],
      "metadata": {
        "id": "bKJF3rekwFvQ"
      }
    },
    {
      "cell_type": "markdown",
      "source": [
        "Now let's make a dataframe from the reviews_df such that :\n",
        "\n",
        "* Remove rows where Sentiment_Polarity or Sentiment_Subjectivity is null.\n",
        "* Group by the App column.\n",
        "* Calculate the mean of Sentiment_Polarity and Sentiment_Subjectivity.\n"
      ],
      "metadata": {
        "id": "iHm2R9kM3GFi"
      }
    },
    {
      "cell_type": "code",
      "source": [
        "# Remove rows with NaN values in Sentiment_Polarity or Sentiment_Subjectivity\n",
        "reviews_df_sub = reviews_df.dropna(subset=['Sentiment_Polarity', 'Sentiment_Subjectivity'])\n",
        "\n",
        "# Group by 'App' and compute the average Sentiment_Polarity and Sentiment_Subjectivity\n",
        "df_avg_sentiment = reviews_df_sub.groupby('App').agg({\n",
        "    'Sentiment_Polarity': 'mean',\n",
        "    'Sentiment_Subjectivity': 'mean'\n",
        "}).reset_index()"
      ],
      "metadata": {
        "id": "3H79udZi3M0K"
      },
      "execution_count": null,
      "outputs": []
    },
    {
      "cell_type": "code",
      "source": [
        "df_avg_sentiment"
      ],
      "metadata": {
        "id": "wk-9a2fpoLcV"
      },
      "execution_count": null,
      "outputs": []
    },
    {
      "cell_type": "code",
      "source": [
        "common_apps = set(df_avg_sentiment['App']).intersection(set(data_df['App']))\n",
        "\n",
        "print(\"Number of common Apps:\", len(common_apps))\n"
      ],
      "metadata": {
        "id": "1lAL2ClB-LxA"
      },
      "execution_count": null,
      "outputs": []
    },
    {
      "cell_type": "markdown",
      "source": [
        "Now let's make a data frame compaining df_avg_sentiment and data_df"
      ],
      "metadata": {
        "id": "ssc1b88A_uHO"
      }
    },
    {
      "cell_type": "code",
      "source": [
        "# Concatenate both DataFrames along columns (axis=1) and align on 'App'\n",
        "df = pd.merge(data_df, df_avg_sentiment, on='App', how='outer')\n",
        "df"
      ],
      "metadata": {
        "id": "NmFCwE_7ABtV"
      },
      "execution_count": null,
      "outputs": []
    },
    {
      "cell_type": "markdown",
      "source": [
        "(1)  Removing Missing Data"
      ],
      "metadata": {
        "id": "DLdhTrj0AKEC"
      }
    },
    {
      "cell_type": "code",
      "source": [
        "df_cleaned= df.dropna().reset_index(drop=True)\n",
        "print(df_cleaned.isnull().sum())  # Check if any NaNs remain\n",
        "print(df_cleaned.shape)  # Verify the new shape"
      ],
      "metadata": {
        "id": "rPlQAYA3Akt-"
      },
      "execution_count": null,
      "outputs": []
    },
    {
      "cell_type": "code",
      "source": [
        "data_df_cleaned= data_df.dropna().reset_index(drop=True)\n",
        "print(data_df_cleaned.isnull().sum())  # Check if any NaNs remain\n",
        "print(data_df_cleaned.shape)  # Verify the new shape"
      ],
      "metadata": {
        "id": "21_FjJcIAVkM"
      },
      "execution_count": null,
      "outputs": []
    },
    {
      "cell_type": "markdown",
      "source": [
        "(2) Handling duplicates"
      ],
      "metadata": {
        "id": "64WdnN9qBGr9"
      }
    },
    {
      "cell_type": "code",
      "source": [
        "duplicate_count = df_cleaned.duplicated().sum()\n",
        "print(f\"Number of duplicate rows: {duplicate_count}\")"
      ],
      "metadata": {
        "id": "bgvMgohqBDNS"
      },
      "execution_count": null,
      "outputs": []
    },
    {
      "cell_type": "code",
      "source": [
        "duplicate_count = data_df_cleaned.duplicated().sum()\n",
        "print(f\"Number of duplicate rows: {duplicate_count}\")"
      ],
      "metadata": {
        "id": "BpgCgoiKBy1z"
      },
      "execution_count": null,
      "outputs": []
    },
    {
      "cell_type": "markdown",
      "source": [
        "Removing the duplicates"
      ],
      "metadata": {
        "id": "6w--G3GtCxZC"
      }
    },
    {
      "cell_type": "code",
      "source": [
        "data_df_final = data_df_cleaned.drop_duplicates().reset_index(drop=True)\n",
        "print(data_df_final.shape)"
      ],
      "metadata": {
        "id": "HvA2MCZhB5dp"
      },
      "execution_count": null,
      "outputs": []
    },
    {
      "cell_type": "code",
      "source": [
        "df_final = df_cleaned.drop_duplicates().reset_index(drop=True)\n",
        "print(df_final.shape)"
      ],
      "metadata": {
        "id": "laZm1mR3JkYL"
      },
      "execution_count": null,
      "outputs": []
    },
    {
      "cell_type": "markdown",
      "source": [
        "(3) Fixing data types and cleaning values"
      ],
      "metadata": {
        "id": "uxTelyEWD1km"
      }
    },
    {
      "cell_type": "code",
      "source": [
        "df_final.dtypes"
      ],
      "metadata": {
        "id": "nQFxcL-WERFZ"
      },
      "execution_count": null,
      "outputs": []
    },
    {
      "cell_type": "markdown",
      "source": [
        "for df_cleaned"
      ],
      "metadata": {
        "id": "JgHUs8g1KA11"
      }
    },
    {
      "cell_type": "code",
      "source": [
        "# 1. Reviews to int\n",
        "df_final['Reviews'] = df_final['Reviews'].astype(int)\n",
        "\n",
        "# 2. Clean Size Column\n",
        "def convert_size(size):\n",
        "    if isinstance(size, str):\n",
        "        if 'M' in size:\n",
        "            return float(size.replace('M', ''))\n",
        "        elif 'k' in size:\n",
        "            return float(size.replace('k', '')) / 1024\n",
        "        else:\n",
        "            return np.nan\n",
        "    else:\n",
        "        return size  # If already float or nan\n",
        "\n",
        "\n",
        "df_final['Size'] = df_final['Size'].apply(convert_size)\n",
        "df_final['Size'] = df_final['Size'].fillna(df_final['Size'].median())\n",
        "\n",
        "\n",
        "# 3. Clean Installs Column\n",
        "df_final['Installs'] = df_final['Installs'].astype(str)  # Convert all values to string\n",
        "df_final['Installs'] = df_final['Installs'].str.replace('[+,]', '', regex=True)  # Remove + and ,\n",
        "df_final['Installs'] = df_final['Installs'].astype(int)  # Convert to int\n",
        "\n",
        "\n",
        "# 4. Clean Price Column\n",
        "df_final['Price'] = (\n",
        "    df_final['Price']\n",
        "    .astype(str)\n",
        "    .str.replace(r'[^\\d.]', '', regex=True)  # Remove all non-numeric chars\n",
        "    .replace('', '0')  # Handle empty strings\n",
        "    .pipe(pd.to_numeric, errors='coerce')\n",
        "    .fillna(0)  # Only if you truly want NaN → 0\n",
        ")\n",
        "\n",
        "\n",
        "# 5. Convert Last Updated to Datetime\n",
        "df_final['Last Updated'] = pd.to_datetime(df_final['Last Updated'])\n",
        "\n",
        "# Verify Datatypes\n",
        "print(df_final.dtypes)"
      ],
      "metadata": {
        "id": "Wm-5_umTFAVN"
      },
      "execution_count": null,
      "outputs": []
    },
    {
      "cell_type": "markdown",
      "source": [
        "for data_df_final"
      ],
      "metadata": {
        "id": "MSSpdtEGKF51"
      }
    },
    {
      "cell_type": "code",
      "source": [
        "# 1. Reviews to int\n",
        "data_df_final['Reviews'] = data_df_final['Reviews'].astype(int)\n",
        "\n",
        "# 2. Clean Size Column\n",
        "def convert_size(size):\n",
        "    if isinstance(size, str):\n",
        "        if 'M' in size:\n",
        "            return float(size.replace('M', ''))\n",
        "        elif 'k' in size:\n",
        "            return float(size.replace('k', '')) / 1024\n",
        "        else:\n",
        "            return np.nan\n",
        "    else:\n",
        "        return size  # If already float or nan\n",
        "\n",
        "data_df_final['Size'] = data_df_final['Size'].apply(convert_size)\n",
        "data_df_final['Size'] = data_df_final['Size'].fillna(data_df_final['Size'].median())\n",
        "\n",
        "# 3. Clean Installs Column\n",
        "data_df_final['Installs'] = data_df_final['Installs'].astype(str)  # Convert all values to string\n",
        "data_df_final['Installs'] = data_df_final['Installs'].str.replace('[+,]', '', regex=True)  # Remove + and ,\n",
        "data_df_final['Installs'] = data_df_final['Installs'].astype(int)  # Convert to int\n",
        "\n",
        "# 4. Clean Price Column\n",
        "data_df_final['Price'] = (\n",
        "    data_df_final['Price']\n",
        "    .astype(str)\n",
        "    .str.replace(r'[^\\d.]', '', regex=True)  # Remove all non-numeric chars\n",
        "    .replace('', '0')  # Handle empty strings\n",
        "    .pipe(pd.to_numeric, errors='coerce')\n",
        "    .fillna(0)  # Only if you truly want NaN → 0\n",
        ")\n",
        "\n",
        "# 5. Convert Last Updated to Datetime\n",
        "data_df_final['Last Updated'] = pd.to_datetime(data_df_final['Last Updated'])\n",
        "\n",
        "# Verify Datatypes\n",
        "print(data_df_final.dtypes)"
      ],
      "metadata": {
        "id": "IXPqSig_RMbP"
      },
      "execution_count": null,
      "outputs": []
    },
    {
      "cell_type": "code",
      "source": [
        "data_df_final.describe()"
      ],
      "metadata": {
        "id": "OEl2dQrYMN_U"
      },
      "execution_count": null,
      "outputs": []
    },
    {
      "cell_type": "code",
      "source": [
        "df_final.describe()"
      ],
      "metadata": {
        "id": "tcWN8ZsEMqKh"
      },
      "execution_count": null,
      "outputs": []
    },
    {
      "cell_type": "code",
      "source": [
        "data_df_final['Price'].unique()"
      ],
      "metadata": {
        "id": "HVZAFPDWM_kg"
      },
      "execution_count": null,
      "outputs": []
    },
    {
      "cell_type": "code",
      "source": [
        "df_final['Price'].unique()"
      ],
      "metadata": {
        "id": "hsjv3KPOWDnt"
      },
      "execution_count": null,
      "outputs": []
    },
    {
      "cell_type": "code",
      "source": [
        "data_df_final['Type'].value_counts()"
      ],
      "metadata": {
        "id": "zIfVEfxXqufC"
      },
      "execution_count": null,
      "outputs": []
    },
    {
      "cell_type": "markdown",
      "source": [
        "### What all manipulations have you done and insights you found?"
      ],
      "metadata": {
        "id": "MSa1f5Uengrz"
      }
    },
    {
      "cell_type": "markdown",
      "source": [
        "To preprocess the dataset, I performed the following steps:\n",
        "\n",
        "* Removed missing values to ensure data completeness.\n",
        "\n",
        "* Removed duplicate records to avoid redundancy and ensure data accuracy.\n",
        "\n",
        "* Converted the 'Reviews' column to a numeric format for accurate analysis.\n",
        "\n",
        "* Converted the 'Date' column to a standardized datetime format.\n",
        "\n",
        "* Cleaned the 'Price' column by removing currency symbols and non-numeric characters, and converted it to a float type for numerical analysis.\n",
        "\n",
        "* Cleaned the 'Installs' column by removing special characters like + and , and converted it to a numeric format.\n",
        "* Cleaned the 'Size' column by converting values like 'M' and 'k' into numeric format for consistency and easier analysis.\n",
        "\n",
        "\n",
        "\n"
      ],
      "metadata": {
        "id": "LbyXE7I1olp8"
      }
    },
    {
      "cell_type": "markdown",
      "source": [
        "The dataset shows that most apps are free, lightweight, and have good ratings with generally positive reviews. However, there is a huge variation in app installs and reviews, highlighting the presence of both very popular and less-known apps."
      ],
      "metadata": {
        "id": "Mx7sAYWfi_TS"
      }
    },
    {
      "cell_type": "code",
      "source": [
        "#from google.colab import files\n",
        "\n",
        "\n",
        "#data_df_final.to_csv('data_df_final.csv', index=False)\n",
        "#df_cleaned.to_csv('df_cleaned.csv', index=False)\n",
        "\n",
        "\n",
        "#files.download('data_df_final.csv')\n",
        "#files.download('df_cleaned.csv')\n"
      ],
      "metadata": {
        "id": "ZqQJ86KBryKR"
      },
      "execution_count": null,
      "outputs": []
    },
    {
      "cell_type": "code",
      "source": [
        "data_df_final.shape"
      ],
      "metadata": {
        "id": "FC9B9X-1ZGWG"
      },
      "execution_count": null,
      "outputs": []
    },
    {
      "cell_type": "code",
      "source": [
        "df_final.shape"
      ],
      "metadata": {
        "id": "HH54klIkZJv4"
      },
      "execution_count": null,
      "outputs": []
    },
    {
      "cell_type": "markdown",
      "source": [
        "## ***4. Data Vizualization, Storytelling & Experimenting with charts : Understand the relationships between variables***"
      ],
      "metadata": {
        "id": "GF8Ens_Soomf"
      }
    },
    {
      "cell_type": "markdown",
      "source": [
        "#### Chart - 1"
      ],
      "metadata": {
        "id": "0wOQAZs5pc--"
      }
    },
    {
      "cell_type": "code",
      "source": [
        "# Chart - 1 visualization code\n",
        "\n",
        "# Create the histogram with KDE\n",
        "plt.figure(figsize=(8, 5))\n",
        "sns.histplot(data=data_df_final, x='Rating', bins=8, kde=True, edgecolor='black')\n",
        "\n",
        "# Labels and title\n",
        "plt.xlabel('Ratings')\n",
        "plt.ylabel('Count')\n",
        "plt.title('Distribution of App Ratings with KDE')\n",
        "\n",
        "plt.show()"
      ],
      "metadata": {
        "id": "7v_ESjsspbW7"
      },
      "execution_count": null,
      "outputs": []
    },
    {
      "cell_type": "markdown",
      "source": [
        "##### 1. Why did you pick the specific chart?"
      ],
      "metadata": {
        "id": "K5QZ13OEpz2H"
      }
    },
    {
      "cell_type": "markdown",
      "source": [
        "For analysing the distribution of app ratings, I have used a histogram combined with a KDE (Kernel Density Estimation) plot. This type of visualization is most suitable because it helps in understanding the overall distribution pattern of ratings across all apps. The histogram shows the frequency of different rating values while the KDE curve provides a smooth estimation of the density. Since ratings are continuous numerical data, this chart allows us to easily observe the skewness, concentration, and spread of the ratings, giving a clear picture of how users are rating apps on the Play Store."
      ],
      "metadata": {
        "id": "XESiWehPqBRc"
      }
    },
    {
      "cell_type": "markdown",
      "source": [
        "##### 2. What is/are the insight(s) found from the chart?"
      ],
      "metadata": {
        "id": "lQ7QKXXCp7Bj"
      }
    },
    {
      "cell_type": "markdown",
      "source": [
        "From the chart, it is evident that the majority of apps on the Play Store have ratings clustered between 4.0 and 4.5. There are very few apps that have ratings lower than 3.0, indicating that users generally rate apps positively unless there is a significant issue. The distribution is right-skewed, which shows that higher ratings are more common. The peak density is around the rating range of 4.2 to 4.4, which suggests that most successful apps maintain ratings within this range."
      ],
      "metadata": {
        "id": "C_j1G7yiqdRP"
      }
    },
    {
      "cell_type": "markdown",
      "source": [
        "##### 3. Will the gained insights help creating a positive business impact?\n",
        "Are there any insights that lead to negative growth? Justify with specific reason."
      ],
      "metadata": {
        "id": "448CDAPjqfQr"
      }
    },
    {
      "cell_type": "markdown",
      "source": [
        "Yes, the insights gained from this chart can certainly help in creating a positive business impact. It highlights the importance of maintaining a rating above 4.0 for better visibility and user trust in the Play Store. App developers should focus on improving app performance, user interface, and overall customer satisfaction to ensure high ratings. On the other hand, the chart also indicates that apps with ratings below 3.0 are very few, which could be a sign of poor quality, bad user experience, or unresolved issues. Such low ratings can negatively impact an app’s growth as they directly affect user downloads, engagement, and retention. Therefore, developers must pay attention to customer feedback and address issues promptly to avoid falling into the low-rating category, which could hinder their success in a highly competitive marke"
      ],
      "metadata": {
        "id": "3cspy4FjqxJW"
      }
    },
    {
      "cell_type": "markdown",
      "source": [
        "#### Chart - 2"
      ],
      "metadata": {
        "id": "KSlN3yHqYklG"
      }
    },
    {
      "cell_type": "code",
      "source": [
        "# Chart - 2 visualization code\n",
        "\n",
        "# Count the number of apps in each category\n",
        "category_count = data_df_final['Category'].value_counts().head(10).reset_index()\n",
        "category_count.columns = ['Category', 'App Count']\n",
        "\n",
        "# Set the figure size\n",
        "plt.figure(figsize=(12, 6))\n",
        "\n",
        "# Create the bar plot\n",
        "sns.barplot(data=category_count, x='Category', y='App Count')\n",
        "# Rotate x-axis labels for better readability\n",
        "plt.xticks(rotation=45)\n",
        "\n",
        "# Add chart title and labels\n",
        "plt.title('Top 10 Categories by App Count', fontsize=16)\n",
        "plt.xlabel('Category', fontsize=12)\n",
        "plt.ylabel('Number of Apps', fontsize=12)\n",
        "\n",
        "plt.tight_layout()\n",
        "plt.show()\n"
      ],
      "metadata": {
        "id": "R4YgtaqtYklH"
      },
      "execution_count": null,
      "outputs": []
    },
    {
      "cell_type": "markdown",
      "source": [
        "##### 1. Why did you pick the specific chart?"
      ],
      "metadata": {
        "id": "t6dVpIINYklI"
      }
    },
    {
      "cell_type": "markdown",
      "source": [
        "This bar chart was chosen because it is the most suitable visualization for comparing categorical data — in this case, the number of apps in each category. A bar chart clearly shows the distribution and market share of different app categories, making it easy to identify which categories dominate the Google Play Store and which ones have fewer apps. This visual representation helps us quickly understand the competitive landscape."
      ],
      "metadata": {
        "id": "5aaW0BYyYklI"
      }
    },
    {
      "cell_type": "markdown",
      "source": [
        "##### 2. What is/are the insight(s) found from the chart?"
      ],
      "metadata": {
        "id": "ijmpgYnKYklI"
      }
    },
    {
      "cell_type": "markdown",
      "source": [
        "From the chart, the insight gained is that the 'FAMILY' and 'GAME' categories have the highest number of apps. These two categories capture the majority of the market share, indicating very high competition. On the other hand, categories like 'MEDICAL', 'PHOTOGRAPHY', and 'LIFESTYLE' have significantly fewer apps compared to the top categories. This suggests that while popular categories attract more users, they are also harder to penetrate due to market saturation."
      ],
      "metadata": {
        "id": "PSx9atu2YklI"
      }
    },
    {
      "cell_type": "markdown",
      "source": [
        "##### 3. Will the gained insights help creating a positive business impact?\n",
        "Are there any insights that lead to negative growth? Justify with specific reason."
      ],
      "metadata": {
        "id": "-JiQyfWJYklI"
      }
    },
    {
      "cell_type": "markdown",
      "source": [
        "These insights can create a positive business impact because they guide app developers or businesses to identify potential opportunities. For example, entering a category with fewer apps may offer a better chance of visibility and user acquisition due to less competition. However, it also depends on the user demand within that category.\n",
        "\n",
        "There is no direct insight that leads to negative growth from this chart, but there is an indirect risk — entering a highly saturated category like 'FAMILY' or 'GAME' without a unique selling proposition could result in lower visibility and higher marketing costs. Therefore, businesses must balance between choosing high-demand categories and exploring less competitive, niche categories based on their strengths and target audience."
      ],
      "metadata": {
        "id": "BcBbebzrYklV"
      }
    },
    {
      "cell_type": "markdown",
      "source": [
        "#### Chart - 3"
      ],
      "metadata": {
        "id": "EM7whBJCYoAo"
      }
    },
    {
      "cell_type": "code",
      "source": [
        "# Chart - 3 visualization code\n",
        "\n",
        "# Count of Free vs Paid apps\n",
        "app_type = data_df_final['Type'].value_counts()\n",
        "\n",
        "# Plotting Pie Chart\n",
        "plt.figure(figsize=(7,7))\n",
        "plt.pie(app_type, labels=app_type.index, autopct='%1.1f%%')\n",
        "plt.title('Free vs Paid Apps Distribution')\n",
        "plt.axis('equal')  # Equal aspect ratio ensures that pie is drawn as a circle.\n",
        "plt.show()\n"
      ],
      "metadata": {
        "id": "t6GMdE67YoAp"
      },
      "execution_count": null,
      "outputs": []
    },
    {
      "cell_type": "markdown",
      "source": [
        "##### 1. Why did you pick the specific chart?"
      ],
      "metadata": {
        "id": "fge-S5ZAYoAp"
      }
    },
    {
      "cell_type": "markdown",
      "source": [
        "I selected a Pie Chart because it is the most suitable visualization for showing the proportion or percentage distribution of a categorical variable. In this case, the chart effectively displays the market share of Free and Paid apps in a simple and easily understandable format."
      ],
      "metadata": {
        "id": "5dBItgRVYoAp"
      }
    },
    {
      "cell_type": "markdown",
      "source": [
        "##### 2. What is/are the insight(s) found from the chart?"
      ],
      "metadata": {
        "id": "85gYPyotYoAp"
      }
    },
    {
      "cell_type": "markdown",
      "source": [
        "The chart shows that the majority of the apps in the market are Free (93.1%), while only a small percentage of apps are Paid (6.9%).\n",
        "This highlights the clear preference of developers and businesses towards offering free apps, possibly due to higher downloads, user acquisition, and monetization through ads or in-app purchases."
      ],
      "metadata": {
        "id": "4jstXR6OYoAp"
      }
    },
    {
      "cell_type": "markdown",
      "source": [
        "##### 3. Will the gained insights help creating a positive business impact?\n",
        "Are there any insights that lead to negative growth? Justify with specific reason."
      ],
      "metadata": {
        "id": "RoGjAbkUYoAp"
      }
    },
    {
      "cell_type": "markdown",
      "source": [
        "Yes, the insights will help businesses make better monetization decisions.\n",
        "Since most apps are free, launching a free app initially can help capture a larger user base. Businesses can later monetize through ads, premium features, or in-app purchases.\n",
        "\n",
        "No negative growth is indicated directly from this insight. However, launching a Paid app in a market dominated by Free apps may result in lower downloads unless the app provides high value, unique features, or targets a niche audience willing to pay"
      ],
      "metadata": {
        "id": "zfJ8IqMcYoAp"
      }
    },
    {
      "cell_type": "markdown",
      "source": [
        "#### Chart - 4"
      ],
      "metadata": {
        "id": "4Of9eVA-YrdM"
      }
    },
    {
      "cell_type": "code",
      "source": [
        "# Chart - 4 visualization code\n",
        "\n",
        "# Filter only Paid apps\n",
        "paid_apps = data_df_final[data_df_final['Type'] == 'Paid']\n",
        "\n",
        "plt.figure(figsize=(10, 6))\n",
        "sns.boxplot(y='Price', data=paid_apps)\n",
        "\n",
        "plt.title('Price Distribution of Paid Apps')\n",
        "plt.xlabel('Price (USD)')\n",
        "plt.show()\n"
      ],
      "metadata": {
        "id": "irlUoxc8YrdO"
      },
      "execution_count": null,
      "outputs": []
    },
    {
      "cell_type": "markdown",
      "source": [
        "##### 1. Why did you pick the specific chart?"
      ],
      "metadata": {
        "id": "iky9q4vBYrdO"
      }
    },
    {
      "cell_type": "markdown",
      "source": [
        "The Box Plot is chosen here because it effectively displays the distribution of app prices, highlighting the central tendency, spread, and the presence of outliers. It provides a clear visual representation of the most common pricing range for paid apps, making it easier to identify the recommended pricing strategy."
      ],
      "metadata": {
        "id": "aJRCwT6DYrdO"
      }
    },
    {
      "cell_type": "markdown",
      "source": [
        "##### 2. What is/are the insight(s) found from the chart?"
      ],
      "metadata": {
        "id": "F6T5p64dYrdO"
      }
    },
    {
      "cell_type": "markdown",
      "source": [
        "From the chart, it is evident that the majority of paid apps are priced between 0 and 10 USD, with the median price being quite low. This indicates that users generally prefer affordable apps, and developers usually price their apps competitively to attract a larger user base. However, there are a few extreme outliers with very high prices, going up to 400 USD. These are rare cases and might belong to niche categories or offer specialized features."
      ],
      "metadata": {
        "id": "Xx8WAJvtYrdO"
      }
    },
    {
      "cell_type": "markdown",
      "source": [
        "##### 3. Will the gained insights help creating a positive business impact?\n",
        "Are there any insights that lead to negative growth? Justify with specific reason."
      ],
      "metadata": {
        "id": "y-Ehk30pYrdP"
      }
    },
    {
      "cell_type": "markdown",
      "source": [
        "These insights are valuable for business decision-making. Setting app prices within the common range of 0 to 10 USD can lead to a positive business impact by increasing downloads and user engagement. On the other hand, pricing an app too high without offering significant value or uniqueness could result in negative growth, as users may not be willing to pay a premium for standard features. Therefore, understanding the price distribution helps in setting a competitive yet profitable pricing strategy."
      ],
      "metadata": {
        "id": "jLNxxz7MYrdP"
      }
    },
    {
      "cell_type": "markdown",
      "source": [
        "#### Chart - 5"
      ],
      "metadata": {
        "id": "bamQiAODYuh1"
      }
    },
    {
      "cell_type": "code",
      "source": [
        "# Chart - 5 visualization code\n",
        "\n",
        "# Grouping the data by Category and summing the Installs\n",
        "top_categories = data_df_final.groupby('Category')['Installs'].sum().sort_values(ascending=False).head(10)\n",
        "\n",
        "# Plotting\n",
        "plt.figure(figsize=(10,6))\n",
        "sns.barplot(y=top_categories.values, x=top_categories.index)\n",
        "\n",
        "plt.title('Top 10 Categories by Install Count')\n",
        "plt.xlabel('Total Installs')\n",
        "plt.ylabel('Category')\n",
        "plt.tight_layout()\n",
        "plt.show()\n"
      ],
      "metadata": {
        "id": "TIJwrbroYuh3"
      },
      "execution_count": null,
      "outputs": []
    },
    {
      "cell_type": "markdown",
      "source": [
        "##### 1. Why did you pick the specific chart?"
      ],
      "metadata": {
        "id": "QHF8YVU7Yuh3"
      }
    },
    {
      "cell_type": "markdown",
      "source": [
        "I used a bar chart because it is the most effective way to represent the total install count across different categories. A bar chart provides a clear visual comparison of the install counts, making it easy to identify which categories have the highest and lowest user reach. It helps in ranking the categories based on their popularity.\n",
        "\n"
      ],
      "metadata": {
        "id": "dcxuIMRPYuh3"
      }
    },
    {
      "cell_type": "markdown",
      "source": [
        "##### 2. What is/are the insight(s) found from the chart?"
      ],
      "metadata": {
        "id": "GwzvFGzlYuh3"
      }
    },
    {
      "cell_type": "markdown",
      "source": [
        "he chart reveals that the Game category has the highest install count, indicating that gaming apps are the most popular among users. The Communication and Social categories follow, suggesting that users highly engage with messaging, social media, and networking apps. Categories like Productivity, Tools, Family, and Photography also have a considerable user base, but their install counts are relatively lower."
      ],
      "metadata": {
        "id": "uyqkiB8YYuh3"
      }
    },
    {
      "cell_type": "markdown",
      "source": [
        "##### 3. Will the gained insights help creating a positive business impact?\n",
        "Are there any insights that lead to negative growth? Justify with specific reason."
      ],
      "metadata": {
        "id": "qYpmQ266Yuh3"
      }
    },
    {
      "cell_type": "markdown",
      "source": [
        "Yes, the gained insights will definitely help create a positive business impact. Businesses and app developers can target the most popular categories like Games, Communication, and Social to attract more users and generate higher revenues.\n",
        "\n",
        "There are no direct insights from this chart that indicate negative growth. However, the lower install counts in categories like News and Magazines or Video Players may indicate lower user demand or market saturation in those segments. Businesses should either innovate in these categories to revive user interest or focus their resources on high-growth categories for better returns."
      ],
      "metadata": {
        "id": "_WtzZ_hCYuh4"
      }
    },
    {
      "cell_type": "markdown",
      "source": [
        "#### Chart - 6"
      ],
      "metadata": {
        "id": "OH-pJp9IphqM"
      }
    },
    {
      "cell_type": "code",
      "source": [
        "# Chart - 6 visualization code\n",
        "\n",
        "plt.figure(figsize=(10,6))\n",
        "\n",
        "# Scatter Plot\n",
        "sns.scatterplot(data=data_df_final, x='Reviews', y='Rating')\n",
        "\n",
        "# Apply Log scale to x-axis (Reviews)\n",
        "plt.xscale('log')\n",
        "\n",
        "plt.title('Reviews Count vs Rating (Log Scale)')\n",
        "plt.xlabel('Reviews Count (log scale)')\n",
        "plt.ylabel('App Rating')\n",
        "\n",
        "plt.show()\n"
      ],
      "metadata": {
        "id": "kuRf4wtuphqN"
      },
      "execution_count": null,
      "outputs": []
    },
    {
      "cell_type": "markdown",
      "source": [
        "##### 1. Why did you pick the specific chart?"
      ],
      "metadata": {
        "id": "bbFf2-_FphqN"
      }
    },
    {
      "cell_type": "markdown",
      "source": [
        "I have used a Scatter Plot with a log scale because it helps to visualize the relationship between App Ratings and the number of Reviews. Since the number of reviews varies widely (from very low to very high), a log scale makes the visualization more readable and highlights the distribution effectively."
      ],
      "metadata": {
        "id": "loh7H2nzphqN"
      }
    },
    {
      "cell_type": "markdown",
      "source": [
        "##### 2. What is/are the insight(s) found from the chart?"
      ],
      "metadata": {
        "id": "_ouA3fa0phqN"
      }
    },
    {
      "cell_type": "markdown",
      "source": [
        "Most of the highly-rated apps (Rating between 4.0 to 5.0) have varying review counts, indicating that good apps do not always receive a high number of reviews.\n",
        "\n",
        "There are some apps with very high ratings but a very low number of reviews — these are potential hidden gems (quality apps that are not very popular).\n",
        "\n",
        "Apps with lower ratings (below 3.0) are scattered across various review counts, indicating that more reviews do not guarantee higher ratings."
      ],
      "metadata": {
        "id": "VECbqPI7phqN"
      }
    },
    {
      "cell_type": "markdown",
      "source": [
        "##### 3. Will the gained insights help creating a positive business impact?\n",
        "Are there any insights that lead to negative growth? Justify with specific reason."
      ],
      "metadata": {
        "id": "Seke61FWphqN"
      }
    },
    {
      "cell_type": "markdown",
      "source": [
        "\n",
        "Identifying hidden gem apps (high ratings but low reviews) is an opportunity for marketing teams to promote these apps and increase their visibility — leading to potential user growth.It helps businesses focus on improving the quality of their apps rather than just focusing on increasing the number of reviews.\n",
        "\n",
        "\n",
        "\n",
        "Apps with a very high number of reviews but low ratings might indicate user dissatisfaction. This could lead to a negative reputation, uninstallations, and bad word of mouth. Such apps should be investigated, and product improvements should be prioritized."
      ],
      "metadata": {
        "id": "DW4_bGpfphqN"
      }
    },
    {
      "cell_type": "code",
      "source": [
        "reviews_df['Sentiment'].value_counts()"
      ],
      "metadata": {
        "id": "l1moylpa2glI"
      },
      "execution_count": null,
      "outputs": []
    },
    {
      "cell_type": "markdown",
      "source": [
        "#### Chart - 7"
      ],
      "metadata": {
        "id": "PIIx-8_IphqN"
      }
    },
    {
      "cell_type": "code",
      "source": [
        "# Chart - 7 visualization code\n",
        "\n",
        "# Count of each Sentiment\n",
        "sentiment_counts = reviews_df['Sentiment'].value_counts()\n",
        "\n",
        "# Pie Chart - Overall Customer Happiness\n",
        "plt.figure(figsize=(7,7))\n",
        "plt.pie(sentiment_counts, labels=sentiment_counts.index, autopct='%1.1f%%')\n",
        "plt.title('Overall Customer Sentiment Distribution')\n",
        "plt.axis('equal')\n",
        "plt.show()\n"
      ],
      "metadata": {
        "id": "lqAIGUfyphqO"
      },
      "execution_count": null,
      "outputs": []
    },
    {
      "cell_type": "markdown",
      "source": [
        "##### 1. Why did you pick the specific chart?"
      ],
      "metadata": {
        "id": "t27r6nlMphqO"
      }
    },
    {
      "cell_type": "markdown",
      "source": [
        "I selected the Pie Chart to visualize the Overall Customer Sentiment Distribution because it is one of the best ways to represent the percentage share of different categories within a whole. In this case, it clearly shows the proportion of Positive, Negative, and Neutral reviews in a simple and easy-to-understand format."
      ],
      "metadata": {
        "id": "iv6ro40sphqO"
      }
    },
    {
      "cell_type": "markdown",
      "source": [
        "##### 2. What is/are the insight(s) found from the chart?"
      ],
      "metadata": {
        "id": "r2jJGEOYphqO"
      }
    },
    {
      "cell_type": "markdown",
      "source": [
        "From the chart, we can observe that the majority of customers, about 64.1%, have shared positive feedback about the product or service. This indicates that the company has a strong base of satisfied customers, which is a good sign for the business. However, there is also 22.1% negative feedback, which highlights that there are certain areas where customers are not happy. Additionally, 13.8% of the reviews are neutral, showing that some customers had an average experience."
      ],
      "metadata": {
        "id": "Po6ZPi4hphqO"
      }
    },
    {
      "cell_type": "markdown",
      "source": [
        "##### 3. Will the gained insights help creating a positive business impact?\n",
        "Are there any insights that lead to negative growth? Justify with specific reason."
      ],
      "metadata": {
        "id": "b0JNsNcRphqO"
      }
    },
    {
      "cell_type": "markdown",
      "source": [
        "he insights gained from this analysis can certainly help in creating a positive business impact. The large percentage of positive reviews reflects customer satisfaction, which can be further used to build brand reputation and customer loyalty. At the same time, the negative reviews act as a warning sign for the business. If these negative feedbacks are not addressed properly, they may lead to customer dissatisfaction and loss of future customers, which can negatively affect the business growth. Therefore, by taking corrective actions based on customer feedback, the company can reduce risks, improve customer experience, and create long-term positive growth."
      ],
      "metadata": {
        "id": "xvSq8iUTphqO"
      }
    },
    {
      "cell_type": "markdown",
      "source": [
        "#### Chart - 8"
      ],
      "metadata": {
        "id": "BZR9WyysphqO"
      }
    },
    {
      "cell_type": "code",
      "source": [
        "# Chart - 8 visualization code\n",
        "\n",
        "# Scatter Plot\n",
        "plt.figure(figsize=(10,6))\n",
        "sns.scatterplot(x='Size', y='Rating', data=data_df_final)\n",
        "\n",
        "plt.title('App Size vs Rating')\n",
        "plt.xlabel('App Size (MB)')\n",
        "plt.ylabel('Rating')\n",
        "plt.show()\n",
        "\n"
      ],
      "metadata": {
        "id": "4jA5bsGA-LPO"
      },
      "execution_count": null,
      "outputs": []
    },
    {
      "cell_type": "markdown",
      "source": [
        "##### 1. Why did you pick the specific chart?"
      ],
      "metadata": {
        "id": "jj7wYXLtphqO"
      }
    },
    {
      "cell_type": "markdown",
      "source": [
        "The scatter plot titled \"App Size vs Rating\" was chosen because it effectively visualizes the relationship between two continuous variables: the size of an app in megabytes and its corresponding user rating. This type of chart helps reveal patterns, trends, and anomalies that might not be immediately apparent from raw data or other chart types. In this case, it gives a visual overview of how app size may—or may not—impact user satisfaction as reflected in app ratings."
      ],
      "metadata": {
        "id": "Ob8u6rCTphqO"
      }
    },
    {
      "cell_type": "markdown",
      "source": [
        "##### 2. What is/are the insight(s) found from the chart?"
      ],
      "metadata": {
        "id": "eZrbJ2SmphqO"
      }
    },
    {
      "cell_type": "markdown",
      "source": [
        "From the chart, several insights emerge. There is a clear concentration of highly rated apps (ratings between 4.0 and 5.0) across all app sizes, but particularly among mid to larger-sized apps. This suggests that app size doesn’t negatively impact user ratings, and in many cases, larger apps may even be associated with better user experiences, possibly due to more robust features or smoother functionality. However, smaller apps (under 20MB) show a much wider spread in ratings, including a significant number of low-rated apps. This indicates that while small apps can be excellent, they are also more likely to suffer from poor ratings, possibly due to limited functionality or performance issues."
      ],
      "metadata": {
        "id": "mZtgC_hjphqO"
      }
    },
    {
      "cell_type": "markdown",
      "source": [
        "##### 3. Will the gained insights help creating a positive business impact?\n",
        "Are there any insights that lead to negative growth? Justify with specific reason."
      ],
      "metadata": {
        "id": "rFu4xreNphqO"
      }
    },
    {
      "cell_type": "markdown",
      "source": [
        "These insights can definitely help drive positive business impact. Understanding that users are generally more satisfied with apps that maintain a certain quality—regardless of size—can guide developers to focus less on minimizing size at the cost of user experience, and more on delivering value. However, there is a potential negative takeaway: businesses that overly prioritize small app size to cater to users with limited storage might unintentionally sacrifice quality, leading to lower ratings. This can harm long-term growth, particularly in competitive app markets. Balancing size with functionality and user satisfaction is crucial for sustainable success."
      ],
      "metadata": {
        "id": "ey_0qi68phqO"
      }
    },
    {
      "cell_type": "markdown",
      "source": [
        "#### Chart - 9"
      ],
      "metadata": {
        "id": "YJ55k-q6phqO"
      }
    },
    {
      "cell_type": "code",
      "source": [
        "# Chart - 9 visualization code\n",
        "\n",
        "# Required Libraries\n",
        "from wordcloud import WordCloud\n",
        "\n",
        "# Remove null values from Translated_Review column\n",
        "all_reviews = reviews_df['Translated_Review'].dropna()\n",
        "\n",
        "# Combine all reviews into one string\n",
        "text = ' '.join(all_reviews)\n",
        "\n",
        "# Generate the WordCloud\n",
        "wordcloud = WordCloud(width=1000, height=500, background_color='white').generate(text)\n",
        "\n",
        "# Plot the WordCloud\n",
        "plt.figure(figsize=(15, 7))\n",
        "plt.imshow(wordcloud, interpolation='bilinear')\n",
        "plt.axis('off')\n",
        "plt.title('Frequent Keywords in Reviews')\n",
        "plt.show()\n"
      ],
      "metadata": {
        "id": "B2aS4O1ophqO"
      },
      "execution_count": null,
      "outputs": []
    },
    {
      "cell_type": "markdown",
      "source": [
        "##### 1. Why did you pick the specific chart?"
      ],
      "metadata": {
        "id": "gCFgpxoyphqP"
      }
    },
    {
      "cell_type": "markdown",
      "source": [
        "The reason for selecting a word cloud for this analysis is that it is one of the most effective visualizations when dealing with large volumes of textual data such as customer reviews. Word clouds provide a quick and intuitive way to understand the most frequently occurring words in the dataset. The larger the word in the cloud, the more often it appears in the reviews. This visual appeal helps in identifying common themes, customer sentiments, and frequently discussed topics without going into the complexity of detailed textual analysis."
      ],
      "metadata": {
        "id": "TVxDimi2phqP"
      }
    },
    {
      "cell_type": "markdown",
      "source": [
        "##### 2. What is/are the insight(s) found from the chart?"
      ],
      "metadata": {
        "id": "OVtJsKN_phqQ"
      }
    },
    {
      "cell_type": "markdown",
      "source": [
        "From the word cloud generated, the key insights found are very clear. Words like “game”, “app”, “good”, “great”, “love”, “work”, “update”, “need”, and “phone” appear prominently. This indicates that customers often mention these terms in their feedback. Words like “good”, “great”, “love”, and “best” reflect positive user sentiments, showing satisfaction with the product or service. On the other hand, terms like “problem”, “issue”, “update”, “need”, and “fix” point towards areas where customers are facing difficulties or expecting improvements."
      ],
      "metadata": {
        "id": "ngGi97qjphqQ"
      }
    },
    {
      "cell_type": "markdown",
      "source": [
        "##### 3. Will the gained insights help creating a positive business impact?\n",
        "Are there any insights that lead to negative growth? Justify with specific reason."
      ],
      "metadata": {
        "id": "lssrdh5qphqQ"
      }
    },
    {
      "cell_type": "markdown",
      "source": [
        "The insights gained from this analysis are definitely useful for creating a positive business impact. Positive feedback words such as “love”, “great”, and “good” highlight the strengths of the product or app — these can be used for marketing purposes to build a positive brand image. However, the words indicating negative feedback or issues like “problem”, “issue”, “update”, and “need” help the business to identify areas of improvement. Addressing these user concerns by fixing bugs, improving updates, and enhancing user experience will help retain customers and attract new users.\n",
        "\n",
        "There are no direct insights that suggest negative growth, but if the frequently occurring negative terms are ignored by the business, it may lead to customer dissatisfaction, bad reviews, and eventually a drop in app ratings and user retention. Therefore, the real risk lies in not acting upon these insights. The smart approach would be to leverage positive feedback for branding and simultaneously prioritize solving customer complaints to improve overall user satisfaction and avoid negative growth."
      ],
      "metadata": {
        "id": "tBpY5ekJphqQ"
      }
    },
    {
      "cell_type": "markdown",
      "source": [
        "#### Chart - 10"
      ],
      "metadata": {
        "id": "U2RJ9gkRphqQ"
      }
    },
    {
      "cell_type": "code",
      "source": [
        "# Chart - 10 visualization code\n",
        "\n",
        "# Count of Content Rating\n",
        "content_rating_count = data_df_final['Content Rating'].value_counts()\n",
        "\n",
        "# Bar Chart\n",
        "plt.figure(figsize=(8,5))\n",
        "plt.bar(content_rating_count.index, content_rating_count.values)\n",
        "\n",
        "plt.xlabel('Content Rating')\n",
        "plt.ylabel('Number of Apps')\n",
        "plt.title('Content Rating Distribution (Target Audience Analysis)')\n",
        "plt.grid(axis='y', linestyle='--', alpha=0.7)\n",
        "plt.show()\n",
        "\n"
      ],
      "metadata": {
        "id": "GM7a4YP4phqQ"
      },
      "execution_count": null,
      "outputs": []
    },
    {
      "cell_type": "markdown",
      "source": [
        "##### 1. Why did you pick the specific chart?"
      ],
      "metadata": {
        "id": "1M8mcRywphqQ"
      }
    },
    {
      "cell_type": "markdown",
      "source": [
        "This bar chart titled \"Content Rating Distribution (Target Audience Analysis)\" provides a clear view of how apps are categorized based on their target audience. It visually represents the number of apps assigned to each content rating category."
      ],
      "metadata": {
        "id": "8agQvks0phqQ"
      }
    },
    {
      "cell_type": "markdown",
      "source": [
        "##### 2. What is/are the insight(s) found from the chart?"
      ],
      "metadata": {
        "id": "tgIPom80phqQ"
      }
    },
    {
      "cell_type": "markdown",
      "source": [
        "From the chart, it's immediately evident that the vast majority of apps—over 7,000—are rated “Everyone,” making it the dominant category by a huge margin. This suggests that most app developers prioritize inclusivity, aiming to create products that appeal to the broadest possible user base, including children, families, and casual users. Following that, apps rated “Teen” come next, though with a much smaller count, around 1,000. This shows that while there's a notable presence of content targeting teenagers, it’s still a distant second in comparison. Other categories like “Mature 17+” and “Everyone 10+” have relatively minor shares, and ratings like “Adults only 18+” and “Unrated” are nearly negligible."
      ],
      "metadata": {
        "id": "Qp13pnNzphqQ"
      }
    },
    {
      "cell_type": "markdown",
      "source": [
        "##### 3. Will the gained insights help creating a positive business impact?\n",
        "Are there any insights that lead to negative growth? Justify with specific reason."
      ],
      "metadata": {
        "id": "JMzcOPDDphqR"
      }
    },
    {
      "cell_type": "markdown",
      "source": [
        "The insights from this distribution are valuable for business strategy. The dominance of the “Everyone” category indicates a strong market orientation towards general, family-friendly content. For app developers or businesses planning new products, this suggests that creating broadly accessible apps could increase reach and market penetration. However, the lower representation of mature content could also highlight an untapped niche market. Businesses targeting adult users with specialized or premium content might face less competition in that space, offering a potential growth opportunity.\n",
        "\n",
        "There aren’t any direct indicators of negative growth from this chart alone, but one potential concern could be oversaturation in the “Everyone” category. With so many apps competing in that space, discoverability becomes a challenge. Apps in that category may need stronger differentiation or marketing efforts to stand out. On the other hand, exploring underrepresented categories with appropriate and valuable content might help apps capture attention in less crowded markets."
      ],
      "metadata": {
        "id": "R4Ka1PC2phqR"
      }
    },
    {
      "cell_type": "markdown",
      "source": [
        "#### Chart - 11"
      ],
      "metadata": {
        "id": "x-EpHcCOp1ci"
      }
    },
    {
      "cell_type": "code",
      "source": [
        "# Chart - 11 visualization code\n",
        "\n",
        "data_df_final['Year_Month'] = data_df_final['Last Updated'].dt.to_period('M')\n",
        "monthly_launches = data_df_final['Year_Month'].value_counts().sort_index()\n",
        "\n",
        "plt.figure(figsize=(12,6))\n",
        "\n",
        "plt.plot(monthly_launches.index.astype(str), monthly_launches.values)\n",
        "\n",
        "plt.xlabel('Year-Month')\n",
        "plt.ylabel('Number of Apps Launched')\n",
        "plt.title('Monthly Trend of New App Launches')\n",
        "\n",
        "# Rotate x-axis labels\n",
        "plt.xticks(rotation=60)\n",
        "\n",
        "# Optional: Show only some labels (like every 3rd label)\n",
        "plt.gca().xaxis.set_major_locator(plt.MaxNLocator(15))  # Change 15 as per your data\n",
        "\n",
        "plt.grid(True, linestyle='--', alpha=0.5)\n",
        "plt.tight_layout()\n",
        "\n",
        "plt.show()"
      ],
      "metadata": {
        "id": "mAQTIvtqp1cj"
      },
      "execution_count": null,
      "outputs": []
    },
    {
      "cell_type": "markdown",
      "source": [
        "##### 1. Why did you pick the specific chart?"
      ],
      "metadata": {
        "id": "X_VqEhTip1ck"
      }
    },
    {
      "cell_type": "markdown",
      "source": [
        "The chart selected is a line chart, which is ideal for visualizing trends over time. Since the data relates to the monthly trend of new app launches, this format clearly shows how app launches have changed across different months and years. The continuous line allows easy detection of patterns, spikes, or declines, which would be harder to spot in other chart types like bar charts."
      ],
      "metadata": {
        "id": "-vsMzt_np1ck"
      }
    },
    {
      "cell_type": "markdown",
      "source": [
        "##### 2. What is/are the insight(s) found from the chart?"
      ],
      "metadata": {
        "id": "8zGJKyg5p1ck"
      }
    },
    {
      "cell_type": "markdown",
      "source": [
        "From the chart, it's evident that the number of new app launches remained relatively modest from 2010 through 2016, with only gradual increases over time. However, starting in late 2017 and accelerating into 2018, there is a significant surge in app launches, culminating in a dramatic peak. This suggests a period of intense activity in the app development space—potentially driven by increased investor interest, technological advances, or shifts in consumer demand. Yet, right after this peak, there is an equally sharp drop, indicating that the growth was not sustainable."
      ],
      "metadata": {
        "id": "ZYdMsrqVp1ck"
      }
    },
    {
      "cell_type": "markdown",
      "source": [
        "##### 3. Will the gained insights help creating a positive business impact?\n",
        "Are there any insights that lead to negative growth? Justify with specific reason."
      ],
      "metadata": {
        "id": "PVzmfK_Ep1ck"
      }
    },
    {
      "cell_type": "markdown",
      "source": [
        "These insights can be valuable from a business perspective. Understanding when and why these spikes occurred can help businesses time their product launches, recognize market saturation points, and anticipate industry cycles. The period of rapid growth could highlight opportunities that were successfully capitalized on, while the sudden decline that follows may signal underlying issues such as market saturation, quality control by app stores, or changing developer incentives.\n",
        "\n",
        "While the initial rise reflects positive momentum and potential opportunity, the steep fall hints at possible negative growth trends. This might have resulted from a combination of factors such as app store policy changes, removal of low-performing or duplicate apps, or a simple overproduction of apps leading to diminished user engagement. Understanding both the positive and negative sides of this trend is crucial for strategic planning and long-term growth in the app market."
      ],
      "metadata": {
        "id": "druuKYZpp1ck"
      }
    },
    {
      "cell_type": "markdown",
      "source": [
        "#### Chart - 12"
      ],
      "metadata": {
        "id": "n3dbpmDWp1ck"
      }
    },
    {
      "cell_type": "code",
      "source": [
        "# Chart - 12 visualization code\n",
        "\n",
        "from matplotlib.ticker import FuncFormatter\n",
        "\n",
        "# Group by Genres → Get Avg Sentiment Polarity & Total Installs\n",
        "genre_df = df_final.groupby('Genres').agg({\n",
        "    'Sentiment_Polarity': 'mean',\n",
        "    'Installs': 'sum'\n",
        "}).reset_index()\n",
        "\n",
        "# Get Top 10 Genres by Avg Sentiment Polarity\n",
        "top10_genres = genre_df.sort_values(by='Sentiment_Polarity', ascending=False).head(10)\n",
        "\n",
        "# Plot\n",
        "fig, ax1 = plt.subplots(figsize=(12,6))\n",
        "\n",
        "# Barplot for Avg Sentiment Polarity\n",
        "sns.barplot(x='Genres', y='Sentiment_Polarity', data=top10_genres, ax=ax1, color='skyblue')\n",
        "ax1.set_ylabel('Average Sentiment Polarity', color='blue')\n",
        "ax1.set_xlabel('Genres')\n",
        "ax1.set_xticklabels(ax1.get_xticklabels(), rotation=45, ha='right')\n",
        "\n",
        "# Secondary Y-axis for Total Installs\n",
        "ax2 = ax1.twinx()\n",
        "sns.lineplot(x='Genres', y='Installs', data=top10_genres, ax=ax2, color='red', marker='o')\n",
        "ax2.set_ylabel('Total Installs', color='red')\n",
        "\n",
        "# Formatting Installs axis\n",
        "def format_installs(x, pos):\n",
        "    if x >= 1_000_000_000:\n",
        "        return f'{x/1_000_000_000:.1f}B'\n",
        "    elif x >= 1_000_000:\n",
        "        return f'{x/1_000_000:.1f}M'\n",
        "    else:\n",
        "        return f'{x}'\n",
        "\n",
        "ax2.yaxis.set_major_formatter(FuncFormatter(format_installs))\n",
        "\n",
        "plt.title('Top 10 Genres by Avg Sentiment Polarity & Their Total Installs')\n",
        "plt.tight_layout()\n",
        "plt.show()\n"
      ],
      "metadata": {
        "id": "bwevp1tKp1ck"
      },
      "execution_count": null,
      "outputs": []
    },
    {
      "cell_type": "markdown",
      "source": [
        "##### 1. Why did you pick the specific chart?"
      ],
      "metadata": {
        "id": "ylSl6qgtp1ck"
      }
    },
    {
      "cell_type": "markdown",
      "source": [
        "The chosen dual-axis chart effectively compares two key performance indicators—average sentiment polarity and total installs—for the top 10 app genres by sentiment. This format was selected because it allows for clear visual correlation (or lack thereof) between how positively users feel about apps in a genre (sentiment polarity) and how widely those apps are adopted (installs). A simple bar or line chart alone wouldn't capture this multidimensional relationship as clearly."
      ],
      "metadata": {
        "id": "m2xqNkiQp1ck"
      }
    },
    {
      "cell_type": "markdown",
      "source": [
        "##### 2. What is/are the insight(s) found from the chart?"
      ],
      "metadata": {
        "id": "ZWILFDl5p1ck"
      }
    },
    {
      "cell_type": "markdown",
      "source": [
        "From the chart, we observe that genres like Comics and Educational; Creativity have the highest sentiment polarity, indicating highly positive user feedback. However, their install numbers remain relatively low. On the other hand, Health & Fitness exhibits both high sentiment polarity and significantly high install volume, suggesting a genre that is not only well-liked but also highly adopted. Conversely, genres like Parenting; Music & Video and Art & Design show lower polarity and installs, hinting at lower overall engagement or satisfaction."
      ],
      "metadata": {
        "id": "x-lUsV2mp1ck"
      }
    },
    {
      "cell_type": "markdown",
      "source": [
        "##### 3. Will the gained insights help creating a positive business impact?\n",
        "Are there any insights that lead to negative growth? Justify with specific reason."
      ],
      "metadata": {
        "id": "M7G43BXep1ck"
      }
    },
    {
      "cell_type": "markdown",
      "source": [
        "These insights can guide strategic focus. For instance, the Comics genre shows strong user sentiment—an opportunity for growth if more marketing or feature development is directed there. Meanwhile, Health & Fitness stands out as a high-performing genre that could benefit from continued investment. Identifying genres with low installs despite high sentiment can help uncover untapped potential, while those with both low sentiment and adoption may require reevaluation or innovation.\n",
        "\n",
        "Such insights can drive positive business impact by highlighting where to scale and where to improve. At the same time, genres with low sentiment despite high installs could pose reputational risks if left unaddressed—potentially leading to negative growth due to user dissatisfaction."
      ],
      "metadata": {
        "id": "5wwDJXsLp1cl"
      }
    },
    {
      "cell_type": "markdown",
      "source": [
        "#### Chart - 13"
      ],
      "metadata": {
        "id": "Ag9LCva-p1cl"
      }
    },
    {
      "cell_type": "code",
      "source": [
        "# Chart - 13 visualization code\n",
        "\n",
        "# Filter only Paid apps\n",
        "paid_apps = data_df_final[data_df_final['Type'] == 'Paid']\n",
        "\n",
        "plt.figure(figsize=(10, 6))\n",
        "\n",
        "sns.scatterplot(\n",
        "    data=paid_apps,\n",
        "    x='Price',\n",
        "    y='Installs',\n",
        "    alpha=0.7,\n",
        "    color='green'\n",
        ")\n",
        "\n",
        "plt.xscale('log')  # Optional if wide price range\n",
        "plt.yscale('log')  # Optional if wide install range\n",
        "\n",
        "plt.xlabel('App Price')\n",
        "plt.ylabel('Total Installs')\n",
        "plt.title('Install Counts vs App Price (Paid Apps Only)', fontsize=16)\n",
        "plt.grid(True, linestyle='--', alpha=0.5)\n",
        "plt.tight_layout()\n",
        "\n",
        "plt.show()\n",
        "\n"
      ],
      "metadata": {
        "id": "EUfxeq9-p1cl"
      },
      "execution_count": null,
      "outputs": []
    },
    {
      "cell_type": "markdown",
      "source": [
        "##### 1. Why did you pick the specific chart?"
      ],
      "metadata": {
        "id": "E6MkPsBcp1cl"
      }
    },
    {
      "cell_type": "markdown",
      "source": [
        "The scatter plot of Install Counts vs App Price for Paid apps was chosen because it effectively visualizes the relationship between the price of an app and the total number of installs it receives. Both these variables show a wide range of values, and using a scatter plot with a logarithmic scale for both axes helps to handle this variation and gives a clearer picture of how app pricing impacts user downloads."
      ],
      "metadata": {
        "id": "V22bRsFWp1cl"
      }
    },
    {
      "cell_type": "markdown",
      "source": [
        "##### 2. What is/are the insight(s) found from the chart?"
      ],
      "metadata": {
        "id": "2cELzS2fp1cl"
      }
    },
    {
      "cell_type": "markdown",
      "source": [
        "from the chart, we can observe that most of the paid apps are priced within a lower price range, typically under 10,and these apps also tend to have a higher number of installs compared to the more expensive ones. As the price of the app increases, the number of installs significantly decreases, indicating that users are highly price-sensitive when it comes to paid apps. Very few apps priced beyond 50 have managed to gain a large number of installs, which suggests that only apps offering very niche or premium features can afford to charge high prices."
      ],
      "metadata": {
        "id": "ozQPc2_Ip1cl"
      }
    },
    {
      "cell_type": "markdown",
      "source": [
        "##### 3. Will the gained insights help creating a positive business impact?\n",
        "Are there any insights that lead to negative growth? Justify with specific reason."
      ],
      "metadata": {
        "id": "3MPXvC8up1cl"
      }
    },
    {
      "cell_type": "markdown",
      "source": [
        "These insights can certainly help businesses make better decisions, especially in terms of pricing strategy. Keeping the price affordable is crucial if the goal is to maximize user base and installs. Overpricing an app without offering unique or exceptional value could lead to negative growth, as users are unlikely to pay a high price when there are cheaper or free alternatives available. Therefore, companies should carefully analyze their app’s value proposition before deciding to charge a premium price. The insights gained from this chart can guide app developers to strike a balance between price and value to ensure profitability without compromising user adoption."
      ],
      "metadata": {
        "id": "GL8l1tdLp1cl"
      }
    },
    {
      "cell_type": "markdown",
      "source": [
        "#### Chart - 14 - Correlation Heatmap"
      ],
      "metadata": {
        "id": "NC_X3p0fY2L0"
      }
    },
    {
      "cell_type": "code",
      "source": [
        "# Correlation Heatmap visualization code\n",
        "\n",
        "plt.figure(figsize=(12, 8))\n",
        "\n",
        "# Select only numeric columns\n",
        "numeric_df = df_final.select_dtypes(include=['float64', 'int64'])\n",
        "\n",
        "# Calculate correlation\n",
        "corr = numeric_df.corr()\n",
        "\n",
        "# Plot heatmap\n",
        "sns.heatmap(corr, annot=True, fmt=\".2f\", cmap='coolwarm', linewidths=0.5)\n",
        "\n",
        "plt.title(\"Correlation Heatmap\", fontsize=16)\n",
        "plt.tight_layout()\n",
        "plt.show()\n"
      ],
      "metadata": {
        "id": "xyC9zolEZNRQ"
      },
      "execution_count": null,
      "outputs": []
    },
    {
      "cell_type": "markdown",
      "source": [
        "##### 1. Why did you pick the specific chart?"
      ],
      "metadata": {
        "id": "UV0SzAkaZNRQ"
      }
    },
    {
      "cell_type": "markdown",
      "source": [
        "* It visually shows the strength and direction of relationships between multiple numerical variables in a single view.\n",
        "\n",
        "* Helps quickly identify which features have strong or weak correlations.\n",
        "\n",
        "* Makes it easier for business or non-technical people to interpret relationships without going through numeric correlation tables.\n",
        "\n",
        "* Ideal for feature selection in machine learning or data analysis"
      ],
      "metadata": {
        "id": "DVPuT8LYZNRQ"
      }
    },
    {
      "cell_type": "markdown",
      "source": [
        "##### 2. What is/are the insight(s) found from the chart?"
      ],
      "metadata": {
        "id": "YPEH6qLeZNRQ"
      }
    },
    {
      "cell_type": "markdown",
      "source": [
        "* There is a moderate positive correlation between Reviews and Installs (0.44) — Apps that receive more user reviews are generally installed more often.\n",
        "\n",
        "* A moderate correlation between Reviews and Size (0.28) suggests that larger apps may encourage more user feedback, possibly due to richer features.\n",
        "\n",
        "* A weak positive correlation exists between Rating and Sentiment Polarity (0.21) — Apps with more positive sentiments tend to have slightly higher ratings.\n",
        "\n",
        "* Rating and Sentiment Subjectivity (0.22) also show a weak positive relationship, implying that subjective feedback might influence ratings modestly.\n",
        "\n",
        "* Sentiment Polarity and Subjectivity (0.27) share a weak positive correlation — more subjective reviews are often mildly positive.\n",
        "\n",
        "* Size and Sentiment Polarity (-0.30) have a moderate negative correlation, indicating larger apps might face more negative sentiment, possibly due to performance or space concerns.\n",
        "\n",
        "* Reviews and Sentiment Polarity (-0.18) suggest that a higher number of reviews may include more criticism or mixed feedback.\n",
        "\n",
        "* Installs and Sentiment Polarity (-0.13) implies popular apps may attract a diverse user base with varied (including negative) opinions.\n",
        "\n",
        "* Price is almost uncorrelated with all variables, reinforcing that being free or paid has minimal impact on ratings, reviews, installs, or sentiment.\n",
        "\n",
        "\n"
      ],
      "metadata": {
        "id": "bfSqtnDqZNRR"
      }
    },
    {
      "cell_type": "markdown",
      "source": [
        "#### Chart - 15 - Pair Plot"
      ],
      "metadata": {
        "id": "q29F0dvdveiT"
      }
    },
    {
      "cell_type": "code",
      "source": [
        "# Pair Plot visualization code\n",
        "import seaborn as sns\n",
        "import matplotlib.pyplot as plt\n",
        "\n",
        "# Selecting relevant numerical columns for pairplot\n",
        "numeric_df = df_final.select_dtypes(include=['float64', 'int64'])\n",
        "\n",
        "plt.figure(figsize=(12, 8))\n",
        "sns.pairplot(data=numeric_df)\n",
        "plt.suptitle(\"Pair Plot of Numerical Features\", fontsize=16, y=1.02)\n",
        "plt.tight_layout()\n",
        "plt.show()\n"
      ],
      "metadata": {
        "id": "o58-TEIhveiU"
      },
      "execution_count": null,
      "outputs": []
    },
    {
      "cell_type": "markdown",
      "source": [
        "##### 1. Why did you pick the specific chart?"
      ],
      "metadata": {
        "id": "EXh0U9oCveiU"
      }
    },
    {
      "cell_type": "markdown",
      "source": [
        " selected a pairplot because it helps in visualizing the pairwise relationship between multiple variables in a dataset. It also shows the distribution of individual variables, making it useful for detecting patterns, trends, and potential correlations."
      ],
      "metadata": {
        "id": "eMmPjTByveiU"
      }
    },
    {
      "cell_type": "markdown",
      "source": [
        "##### 2. What is/are the insight(s) found from the chart?"
      ],
      "metadata": {
        "id": "22aHeOlLveiV"
      }
    },
    {
      "cell_type": "markdown",
      "source": [
        " The diagonal histograms indicate that variable like Ratings is right-skewed — meaning most apps have very low values, while only a few apps have very high values.\n",
        "\n",
        " The diagonal plots (histograms) show that  Sentiment_Subjectivity is approximately normally distributed — indicating that user sentiments are balanced across middle.\n",
        "\n",
        " The scatterplots between Reviews and Installs show a clear positive linear trend — apps with more installs generally have more reviews.\n",
        "\n",
        " Size of the app does not show any strong visible trend with Rating or Installs — confirming weak correlations as seen in the heatmap."
      ],
      "metadata": {
        "id": "uPQ8RGwHveiV"
      }
    },
    {
      "cell_type": "markdown",
      "source": [
        "## **5. Solution to Business Objective**"
      ],
      "metadata": {
        "id": "JcMwzZxoAimU"
      }
    },
    {
      "cell_type": "markdown",
      "source": [
        "#### What do you suggest the client to achieve Business Objective ?\n",
        "Explain Briefly."
      ],
      "metadata": {
        "id": "8G2x9gOozGDZ"
      }
    },
    {
      "cell_type": "markdown",
      "source": [
        "* Since we observed a positive correlation between number of reviews and installs, increasing installs will automatically lead to more user engagement and feedback. This can be done through marketing campaigns, promotional offers, and improving app visibility.\n",
        "* Sentiment Polarity has shown a slight positive correlation with ratings. Therefore, maintaining a positive user experience by addressing user feedback, improving app performance, and providing customer support will help in improving app ratings.\n",
        "* There is a weak negative correlation between App Size and Sentiment Polarity. Larger app sizes may lead to user dissatisfaction. The client should focus on optimizing the app size for faster downloads and better performance.\n",
        "* As price does not have a strong relationship with ratings or installs, keeping the app free for basic features and charging for premium features would attract more users without affecting user sentiment.\n",
        "* Since no single factor is highly dominant on ratings, the client should continuously monitor user feedback, reviews, and performance metrics to make regular improvements and updates in the app.\n"
      ],
      "metadata": {
        "id": "pASKb0qOza21"
      }
    },
    {
      "cell_type": "markdown",
      "source": [
        "# **Conclusion**"
      ],
      "metadata": {
        "id": "gCX9965dhzqZ"
      }
    },
    {
      "cell_type": "markdown",
      "source": [
        "The overall analysis highlights that user perception towards the apps is largely positive, with a majority of reviews being favorable. However, a noticeable portion of negative and neutral feedback indicates the need for continuous improvement. Genres like Comics, Educational, and Events stand out with higher user satisfaction based on sentiment analysis. Moreover, apps with higher installs are generally backed by good ratings and active user engagement. This reinforces the importance of maintaining quality, addressing user concerns, and focusing on content that aligns with user preferences to sustain growth and competitiveness in the market.\n",
        "\n",
        "In conclusion, focusing on increasing installs, improving user sentiment, optimizing app performance, and regularly monitoring user feedback will help the client achieve their business objectives effectively."
      ],
      "metadata": {
        "id": "Fjb1IsQkh3yE"
      }
    },
    {
      "cell_type": "markdown",
      "source": [
        "### ***Hurrah! You have successfully completed your EDA Capstone Project !!!***"
      ],
      "metadata": {
        "id": "gIfDvo9L0UH2"
      }
    }
  ]
}